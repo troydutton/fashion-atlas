{
 "cells": [
  {
   "cell_type": "code",
   "execution_count": 1,
   "metadata": {},
   "outputs": [],
   "source": [
    "import os\n",
    "\n",
    "import matplotlib.pyplot as plt\n",
    "import numpy as np\n",
    "import pandas as pd\n",
    "from PIL import Image\n",
    "from tqdm import tqdm"
   ]
  },
  {
   "cell_type": "code",
   "execution_count": 2,
   "metadata": {},
   "outputs": [],
   "source": [
    "# Root directory for the dataset\n",
    "root = \"data/DressCode/\"\n",
    "\n",
    "# Map labels to their corresponding directories\n",
    "DIRECTORY_MAP = [\"upper_body\", \"lower_body\", \"dresses\"]\n",
    "\n",
    "# Map labels to their corresponding segmentations\n",
    "SEGMENT_MAP = [[4], [5, 6], [7]]"
   ]
  },
  {
   "cell_type": "code",
   "execution_count": 3,
   "metadata": {},
   "outputs": [
    {
     "data": {
      "text/html": [
       "<div>\n",
       "<style scoped>\n",
       "    .dataframe tbody tr th:only-of-type {\n",
       "        vertical-align: middle;\n",
       "    }\n",
       "\n",
       "    .dataframe tbody tr th {\n",
       "        vertical-align: top;\n",
       "    }\n",
       "\n",
       "    .dataframe thead th {\n",
       "        text-align: right;\n",
       "    }\n",
       "</style>\n",
       "<table border=\"1\" class=\"dataframe\">\n",
       "  <thead>\n",
       "    <tr style=\"text-align: right;\">\n",
       "      <th></th>\n",
       "      <th>model</th>\n",
       "      <th>garment</th>\n",
       "      <th>label</th>\n",
       "    </tr>\n",
       "  </thead>\n",
       "  <tbody>\n",
       "    <tr>\n",
       "      <th>0</th>\n",
       "      <td>000000_0.jpg</td>\n",
       "      <td>000000_1.jpg</td>\n",
       "      <td>0</td>\n",
       "    </tr>\n",
       "    <tr>\n",
       "      <th>1</th>\n",
       "      <td>000001_0.jpg</td>\n",
       "      <td>000001_1.jpg</td>\n",
       "      <td>0</td>\n",
       "    </tr>\n",
       "    <tr>\n",
       "      <th>2</th>\n",
       "      <td>000002_0.jpg</td>\n",
       "      <td>000002_1.jpg</td>\n",
       "      <td>0</td>\n",
       "    </tr>\n",
       "    <tr>\n",
       "      <th>3</th>\n",
       "      <td>000003_0.jpg</td>\n",
       "      <td>000003_1.jpg</td>\n",
       "      <td>0</td>\n",
       "    </tr>\n",
       "    <tr>\n",
       "      <th>4</th>\n",
       "      <td>000004_0.jpg</td>\n",
       "      <td>000004_1.jpg</td>\n",
       "      <td>0</td>\n",
       "    </tr>\n",
       "  </tbody>\n",
       "</table>\n",
       "</div>"
      ],
      "text/plain": [
       "          model       garment  label\n",
       "0  000000_0.jpg  000000_1.jpg      0\n",
       "1  000001_0.jpg  000001_1.jpg      0\n",
       "2  000002_0.jpg  000002_1.jpg      0\n",
       "3  000003_0.jpg  000003_1.jpg      0\n",
       "4  000004_0.jpg  000004_1.jpg      0"
      ]
     },
     "execution_count": 3,
     "metadata": {},
     "output_type": "execute_result"
    }
   ],
   "source": [
    "# Read in the dataset\n",
    "train_pairs = pd.read_csv(\n",
    "    os.path.join(root, \"train_pairs.txt\"),\n",
    "    delimiter=\"\\t\",\n",
    "    header=None,\n",
    "    names=[\"model\", \"garment\", \"label\"],\n",
    ")\n",
    "\n",
    "test_pairs = pd.read_csv(\n",
    "    os.path.join(root, \"test_pairs_paired.txt\"),\n",
    "    delimiter=\"\\t\",\n",
    "    header=None,\n",
    "    names=[\"model\", \"garment\", \"label\"],\n",
    ")\n",
    "\n",
    "pairs = pd.concat([train_pairs, test_pairs])\n",
    "\n",
    "pairs.head()"
   ]
  },
  {
   "cell_type": "code",
   "execution_count": 4,
   "metadata": {},
   "outputs": [],
   "source": [
    "# Create output directories if they don't exist\n",
    "for directory in DIRECTORY_MAP:\n",
    "    os.makedirs(os.path.join(root, directory, \"cropped_images\"), exist_ok=True)"
   ]
  },
  {
   "cell_type": "code",
   "execution_count": 5,
   "metadata": {},
   "outputs": [
    {
     "name": "stderr",
     "output_type": "stream",
     "text": [
      "Cropping Models:   0%|          | 0/53792 [00:00<?, ?image/s]"
     ]
    },
    {
     "name": "stderr",
     "output_type": "stream",
     "text": [
      "Cropping Models:  20%|█▉        | 10569/53792 [01:34<06:19, 113.87image/s]"
     ]
    },
    {
     "name": "stdout",
     "output_type": "stream",
     "text": [
      "Skipping model 010560_0.jpg as mask is empty.\n"
     ]
    },
    {
     "name": "stderr",
     "output_type": "stream",
     "text": [
      "Cropping Models:  34%|███▎      | 18117/53792 [03:37<09:43, 61.12image/s] "
     ]
    },
    {
     "name": "stdout",
     "output_type": "stream",
     "text": [
      "Skipping model 018112_0.jpg as mask is empty.\n"
     ]
    },
    {
     "name": "stderr",
     "output_type": "stream",
     "text": [
      "Cropping Models: 100%|██████████| 53792/53792 [13:40<00:00, 65.59image/s]\n"
     ]
    }
   ],
   "source": [
    "def get_bounding_box(mask: np.ndarray) -> tuple[int, int, int, int]:\n",
    "    \"\"\"\n",
    "    Get the bounding box around the mask.\n",
    "\n",
    "    Returns (x_min, y_min, x_max, y_max): The bounding box.\n",
    "    \"\"\"\n",
    "\n",
    "    x_indices, y_indices = np.where(mask)\n",
    "\n",
    "    if len(x_indices) == 0 or len(y_indices) == 0:\n",
    "        return 0, 0, mask.shape[0], mask.shape[1]\n",
    "\n",
    "    x_min = int(np.min(x_indices))\n",
    "    x_max = int(np.max(x_indices))\n",
    "    y_min = int(np.min(y_indices))\n",
    "    y_max = int(np.max(y_indices))\n",
    "\n",
    "    return x_min, y_min, x_max, y_max\n",
    "\n",
    "\n",
    "# Crop all the model images\n",
    "for model, garment, label in tqdm(\n",
    "    pairs.values, desc=\"Cropping Models\", total=len(pairs), unit=\"image\"\n",
    "):\n",
    "    # Load the model image\n",
    "    model_image = Image.open(\n",
    "        os.path.join(root, DIRECTORY_MAP[label], \"images\", model)\n",
    "    ).convert(\"RGB\")\n",
    "\n",
    "    # Load the segmentation\n",
    "    segmentation = np.array(\n",
    "        Image.open(\n",
    "            os.path.join(\n",
    "                root, DIRECTORY_MAP[label], \"label_maps\", model.split(\"_\")[0] + \"_4.png\"\n",
    "            )\n",
    "        )\n",
    "    )\n",
    "\n",
    "    # Get the mask for the label\n",
    "    mask = np.isin(segmentation, SEGMENT_MAP[label])\n",
    "\n",
    "    if not mask.any():\n",
    "        print(f\"Skipping model {model} as mask is empty.\")\n",
    "        continue\n",
    "\n",
    "    # Get the bounding box for the mask\n",
    "    x_min, y_min, x_max, y_max = get_bounding_box(mask)\n",
    "\n",
    "    # Crop the image\n",
    "    model_image_cropped = model_image.crop((y_min, x_min, y_max, x_max))\n",
    "\n",
    "    # Save the cropped image\n",
    "    model_image_cropped.save(\n",
    "        os.path.join(root, DIRECTORY_MAP[label], \"cropped_images\", model)\n",
    "    )"
   ]
  }
 ],
 "metadata": {
  "kernelspec": {
   "display_name": ".venv",
   "language": "python",
   "name": "python3"
  },
  "language_info": {
   "codemirror_mode": {
    "name": "ipython",
    "version": 3
   },
   "file_extension": ".py",
   "mimetype": "text/x-python",
   "name": "python",
   "nbconvert_exporter": "python",
   "pygments_lexer": "ipython3",
   "version": "3.11.7"
  }
 },
 "nbformat": 4,
 "nbformat_minor": 2
}
