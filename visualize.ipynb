{
 "cells": [
  {
   "cell_type": "code",
   "execution_count": null,
   "metadata": {},
   "outputs": [],
   "source": [
    "import os\n",
    "\n",
    "import matplotlib.pyplot as plt\n",
    "import pandas as pd\n",
    "from PIL import Image\n",
    "\n",
    "from inference import get_similar_garments"
   ]
  },
  {
   "cell_type": "code",
   "execution_count": null,
   "metadata": {},
   "outputs": [],
   "source": [
    "DRESSCODE_ROOT = \"data/Dresscode\"\n",
    "\n",
    "DIRECTORY_MAP = [\"upper_body\", \"lower_body\", \"dresses\"]"
   ]
  },
  {
   "cell_type": "code",
   "execution_count": null,
   "metadata": {},
   "outputs": [],
   "source": [
    "data = pd.read_csv(os.path.join(DRESSCODE_ROOT, \"test_pairs_paired_cropped.txt\"), delimiter=\"\\t\", header=None, names=[\"model\", \"garment\", \"label\"])"
   ]
  },
  {
   "cell_type": "code",
   "execution_count": null,
   "metadata": {},
   "outputs": [],
   "source": [
    "j = 0"
   ]
  },
  {
   "cell_type": "code",
   "execution_count": null,
   "metadata": {},
   "outputs": [],
   "source": [
    "model, garment, label = data.iloc[j]\n",
    "\n",
    "image = Image.open(os.path.join(DRESSCODE_ROOT, DIRECTORY_MAP[label], \"cropped_images\", model))\n",
    "min_confidence = 0.5\n",
    "\n",
    "detections = get_similar_garments(image, min_confidence)\n",
    "\n",
    "for detection in detections:\n",
    "    bounding_box, class_name, similar_images = detection.values()\n",
    "\n",
    "    fig, ax = plt.subplots(1, 5, figsize=(20, 10))\n",
    "\n",
    "    ax[0].imshow(image.crop(bounding_box))\n",
    "    ax[0].axis(\"off\")\n",
    "\n",
    "    for i, similar_image in enumerate(similar_images):\n",
    "        ax[i + 1].imshow(similar_image)\n",
    "        ax[i + 1].axis(\"off\")\n",
    "\n",
    "j += 1"
   ]
  },
  {
   "cell_type": "code",
   "execution_count": null,
   "metadata": {},
   "outputs": [],
   "source": [
    "class_name"
   ]
  },
  {
   "cell_type": "code",
   "execution_count": null,
   "metadata": {},
   "outputs": [],
   "source": [
    "detections"
   ]
  }
 ],
 "metadata": {
  "kernelspec": {
   "display_name": "fashion-atlas",
   "language": "python",
   "name": "python3"
  },
  "language_info": {
   "codemirror_mode": {
    "name": "ipython",
    "version": 3
   },
   "file_extension": ".py",
   "mimetype": "text/x-python",
   "name": "python",
   "nbconvert_exporter": "python",
   "pygments_lexer": "ipython3",
   "version": "3.10.14"
  }
 },
 "nbformat": 4,
 "nbformat_minor": 2
}
